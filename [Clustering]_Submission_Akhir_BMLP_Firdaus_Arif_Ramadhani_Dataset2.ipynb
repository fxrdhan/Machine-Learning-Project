{
 "cells": [
  {
   "cell_type": "markdown",
   "metadata": {
    "colab_type": "text",
    "id": "view-in-github"
   },
   "source": [
    "<a href=\"https://colab.research.google.com/github/fxrdhan/Machine-Learning-Project/blob/main/%5BClustering%5D_Submission_Akhir_BMLP_Firdaus_Arif_Ramadhani_Dataset2.ipynb\" target=\"_parent\"><img src=\"https://colab.research.google.com/assets/colab-badge.svg\" alt=\"Open In Colab\"/></a>"
   ]
  },
  {
   "cell_type": "markdown",
   "metadata": {
    "id": "kZLRMFl0JyyQ"
   },
   "source": [
    "# **1. Perkenalan Dataset**\n"
   ]
  },
  {
   "cell_type": "markdown",
   "metadata": {
    "id": "hssSDn-5n3HR"
   },
   "source": [
    "## 1. Tentang Dataset\n",
    "\n",
    "Dataset ini merupakan data kesehatan yang diekstrak dari database terkomputerisasi yang dibuat oleh Rich Healthcare Group di China. Database ini mencakup seluruh catatan medis dari peserta yang melakukan pemeriksaan kesehatan dari tahun 2010 hingga 2016. Dataset ini dikenal sebagai \"Rui-Ci Health Care Data\" dan file sumbernya adalah \"RC Health Care Data-20180820.xlsx\". \n",
    "\n",
    "## 2. Sumber Dataset\n",
    "\n",
    "- **Nama Dataset**: Rui-Ci Health Care Data\n",
    "- **Sumber**: Rich Healthcare Group, China\n",
    "- **Periode Data**: 2010-2016 (6 tahun)\n",
    "- **Format File**: RC Health Care Data-20180820.xlsx\n",
    "- **Tipe Data**: Catatan medis dari pemeriksaan kesehatan\n",
    "- **Periode Follow-up**: Rata-rata 3.12 tahun per pasienB\n",
    "\n",
    "### 3.2. Kategori Fitur\n",
    "\n",
    "#### a) Data Demografis\n",
    "- Age (y): Usia dalam tahun\n",
    "- Gender: Jenis kelamin (1: laki-laki, 2: perempuan)\n",
    "- Site: Lokasi pengambilan data\n",
    "\n",
    "#### b) Pengukuran Antropometri\n",
    "- Height (cm): Tinggi badan\n",
    "- Weight (kg): Berat badan\n",
    "- BMI (kg/m2): Indeks Massa Tubuh\n",
    "\n",
    "#### c) Vital Signs\n",
    "- SBP (mmHg): Tekanan darah sistolik\n",
    "- DBP (mmHg): Tekanan darah diastolik\n",
    "\n",
    "#### d) Pengukuran Laboratorium\n",
    "- FPG (mmol/L): Glukosa plasma puasa\n",
    "- Cholesterol (mmol/L): Kadar kolesterol\n",
    "- Triglyceride (mmol/L): Kadar trigliserida\n",
    "- HDL-c (mmol/L): High-density lipoprotein\n",
    "- LDL (mmol/L): Low-density lipoprotein\n",
    "- ALT (U/L): Alanine aminotransferase\n",
    "- AST (U/L): Aspartate aminotransferase\n",
    "- BUN (mmol/L): Blood urea nitrogen\n",
    "- CCR (umol/L): Creatinine clearance rate\n",
    "\n",
    "## 4. Kesesuaian dengan Kriteria Proyek\n",
    "\n",
    "- ✅ Memenuhi syarat minimum 2,500 records (84x lipat)\n",
    "- ✅ Memenuhi syarat minimum 5 features (5x lipat)\n",
    "- ✅ Data tanpa label yang cocok untuk clustering"
   ]
  },
  {
   "cell_type": "markdown",
   "metadata": {},
   "source": [
    "Chen, Ying; Zhang, Xiao-Ping; Yuan, Jie et al. (2018). Data from: Association of body mass index and age with incident diabetes in Chinese adults: a population-based cohort study [Dataset]. Dryad. https://doi.org/10.5061/dryad.ft8750v"
   ]
  },
  {
   "cell_type": "markdown",
   "metadata": {
    "id": "fKADPWcFKlj3"
   },
   "source": [
    "# **2. Import Library**"
   ]
  },
  {
   "cell_type": "markdown",
   "metadata": {
    "id": "LgA3ERnVn84N"
   },
   "source": [
    "Pada tahap ini, Anda perlu mengimpor beberapa pustaka (library) Python yang dibutuhkan untuk analisis data dan pembangunan model machine learning."
   ]
  },
  {
   "cell_type": "code",
   "execution_count": null,
   "metadata": {
    "id": "BlmvjLY9M4Yj"
   },
   "outputs": [],
   "source": [
    "#Type your code here"
   ]
  },
  {
   "cell_type": "markdown",
   "metadata": {
    "id": "f3YIEnAFKrKL"
   },
   "source": [
    "# **3. Memuat Dataset**"
   ]
  },
  {
   "cell_type": "markdown",
   "metadata": {
    "id": "Ey3ItwTen_7E"
   },
   "source": [
    "Pada tahap ini, Anda perlu memuat dataset ke dalam notebook. Jika dataset dalam format CSV, Anda bisa menggunakan pustaka pandas untuk membacanya. Pastikan untuk mengecek beberapa baris awal dataset untuk memahami strukturnya dan memastikan data telah dimuat dengan benar.\n",
    "\n",
    "Jika dataset berada di Google Drive, pastikan Anda menghubungkan Google Drive ke Colab terlebih dahulu. Setelah dataset berhasil dimuat, langkah berikutnya adalah memeriksa kesesuaian data dan siap untuk dianalisis lebih lanjut."
   ]
  },
  {
   "cell_type": "code",
   "execution_count": null,
   "metadata": {
    "id": "GHCGNTyrM5fS"
   },
   "outputs": [],
   "source": [
    "#Type your code here"
   ]
  },
  {
   "cell_type": "markdown",
   "metadata": {
    "id": "bgZkbJLpK9UR"
   },
   "source": [
    "# **4. Exploratory Data Analysis (EDA)**\n",
    "\n",
    "Pada tahap ini, Anda akan melakukan **Exploratory Data Analysis (EDA)** untuk memahami karakteristik dataset. EDA bertujuan untuk:\n",
    "\n",
    "1. **Memahami Struktur Data**\n",
    "   - Tinjau jumlah baris dan kolom dalam dataset.  \n",
    "   - Tinjau jenis data di setiap kolom (numerikal atau kategorikal).\n",
    "\n",
    "2. **Menangani Data yang Hilang**  \n",
    "   - Identifikasi dan analisis data yang hilang (*missing values*). Tentukan langkah-langkah yang diperlukan untuk menangani data yang hilang, seperti pengisian atau penghapusan data tersebut.\n",
    "\n",
    "3. **Analisis Distribusi dan Korelasi**  \n",
    "   - Analisis distribusi variabel numerik dengan statistik deskriptif dan visualisasi seperti histogram atau boxplot.  \n",
    "   - Periksa hubungan antara variabel menggunakan matriks korelasi atau scatter plot.\n",
    "\n",
    "4. **Visualisasi Data**  \n",
    "   - Buat visualisasi dasar seperti grafik distribusi dan diagram batang untuk variabel kategorikal.  \n",
    "   - Gunakan heatmap atau pairplot untuk menganalisis korelasi antar variabel.\n",
    "\n",
    "Tujuan dari EDA adalah untuk memperoleh wawasan awal yang mendalam mengenai data dan menentukan langkah selanjutnya dalam analisis atau pemodelan."
   ]
  },
  {
   "cell_type": "code",
   "execution_count": null,
   "metadata": {
    "id": "dKeejtvxM6X1"
   },
   "outputs": [],
   "source": [
    "#Type your code here"
   ]
  },
  {
   "cell_type": "markdown",
   "metadata": {
    "id": "cpgHfgnSK3ip"
   },
   "source": [
    "# **5. Data Preprocessing**"
   ]
  },
  {
   "cell_type": "markdown",
   "metadata": {
    "id": "COf8KUPXLg5r"
   },
   "source": [
    "Pada tahap ini, data preprocessing adalah langkah penting untuk memastikan kualitas data sebelum digunakan dalam model machine learning. Data mentah sering kali mengandung nilai kosong, duplikasi, atau rentang nilai yang tidak konsisten, yang dapat memengaruhi kinerja model. Oleh karena itu, proses ini bertujuan untuk membersihkan dan mempersiapkan data agar analisis berjalan optimal.\n",
    "\n",
    "Berikut adalah tahapan-tahapan yang perlu dilakukan, namun **tidak terbatas** pada:\n",
    "1. Menghapus atau Menangani Data Kosong (Missing Values)\n",
    "2. Menghapus Data Duplikat\n",
    "3. Normalisasi atau Standarisasi Fitur\n",
    "4. Deteksi dan Penanganan Outlier\n",
    "5. Encoding Data Kategorikal\n",
    "6. Binning (Pengelompokan Data)"
   ]
  },
  {
   "cell_type": "code",
   "execution_count": null,
   "metadata": {
    "id": "WzBGjcbQM7N8"
   },
   "outputs": [],
   "source": [
    "#Type your code here"
   ]
  },
  {
   "cell_type": "markdown",
   "metadata": {
    "id": "BR73dCnrLEiq"
   },
   "source": [
    "# **6. Pembangunan Model Clustering**"
   ]
  },
  {
   "cell_type": "markdown",
   "metadata": {
    "id": "Fkd_QHXWMBDr"
   },
   "source": [
    "## **a. Pembangunan Model Clustering**"
   ]
  },
  {
   "cell_type": "markdown",
   "metadata": {
    "id": "Kn6Y2qbqMVLP"
   },
   "source": [
    "Pada tahap ini, Anda membangun model clustering dengan memilih algoritma yang sesuai untuk mengelompokkan data berdasarkan kesamaan. Berikut adalah **rekomendasi** tahapannya.\n",
    "1. Pilih algoritma clustering yang sesuai.\n",
    "2. Latih model dengan data menggunakan algoritma tersebut."
   ]
  },
  {
   "cell_type": "code",
   "execution_count": null,
   "metadata": {
    "id": "hgYvwWOzM93L"
   },
   "outputs": [],
   "source": [
    "#Type your code here"
   ]
  },
  {
   "cell_type": "markdown",
   "metadata": {
    "id": "zsGVwzPKMEvn"
   },
   "source": [
    "## **b. Evaluasi Model Clustering**"
   ]
  },
  {
   "cell_type": "markdown",
   "metadata": {
    "id": "qk63ew39MeBf"
   },
   "source": [
    "Untuk menentukan jumlah cluster yang optimal dalam model clustering, Anda dapat menggunakan metode Elbow atau Silhouette Score.\n",
    "\n",
    "Metode ini membantu kita menemukan jumlah cluster yang memberikan pemisahan terbaik antar kelompok data, sehingga model yang dibangun dapat lebih efektif. Berikut adalah **rekomendasi** tahapannya.\n",
    "1. Gunakan Silhouette Score dan Elbow Method untuk menentukan jumlah cluster optimal.\n",
    "2. Hitung Silhouette Score sebagai ukuran kualitas cluster."
   ]
  },
  {
   "cell_type": "code",
   "execution_count": null,
   "metadata": {
    "id": "yrPkK_bvM-Ya"
   },
   "outputs": [],
   "source": [
    "#Type your code here"
   ]
  },
  {
   "cell_type": "markdown",
   "metadata": {
    "id": "vWZp5vKNQddd"
   },
   "source": [
    "## **c. Feature Selection (Opsional)**"
   ]
  },
  {
   "cell_type": "markdown",
   "metadata": {
    "id": "QIHKgE07Q4c0"
   },
   "source": [
    "Silakan lakukan feature selection jika Anda membutuhkan optimasi model clustering. Jika Anda menerapkan proses ini, silakan lakukan pemodelan dan evaluasi kembali menggunakan kolom-kolom hasil feature selection. Terakhir, bandingkan hasil performa model sebelum dan sesudah menerapkan feature selection."
   ]
  },
  {
   "cell_type": "code",
   "execution_count": null,
   "metadata": {
    "id": "Vbstha0PRUpI"
   },
   "outputs": [],
   "source": [
    "#Type your code here"
   ]
  },
  {
   "cell_type": "markdown",
   "metadata": {
    "id": "nn01TKkLLRiF"
   },
   "source": [
    "## **d. Visualisasi Hasil Clustering**"
   ]
  },
  {
   "cell_type": "markdown",
   "metadata": {
    "id": "gaz0fnhhMkRI"
   },
   "source": [
    "Setelah model clustering dilatih dan jumlah cluster optimal ditentukan, langkah selanjutnya adalah menampilkan hasil clustering melalui visualisasi.\n",
    "\n",
    "Berikut adalah **rekomendasi** tahapannya.\n",
    "1. Tampilkan hasil clustering dalam bentuk visualisasi, seperti grafik scatter plot atau 2D PCA projection."
   ]
  },
  {
   "cell_type": "code",
   "execution_count": null,
   "metadata": {
    "id": "lfOjVvfYM-4v"
   },
   "outputs": [],
   "source": [
    "#Type your code here"
   ]
  },
  {
   "cell_type": "markdown",
   "metadata": {
    "id": "X4eydPWJLH4I"
   },
   "source": [
    "## **e. Analisis dan Interpretasi Hasil Cluster**"
   ]
  },
  {
   "cell_type": "markdown",
   "metadata": {
    "id": "SENfLnfRMpC-"
   },
   "source": [
    "Setelah melakukan clustering, langkah selanjutnya adalah menganalisis karakteristik dari masing-masing cluster berdasarkan fitur yang tersedia.\n",
    "\n",
    "Berikut adalah **rekomendasi** tahapannya.\n",
    "1. Analisis karakteristik tiap cluster berdasarkan fitur yang tersedia (misalnya, distribusi nilai dalam cluster).\n",
    "2. Berikan interpretasi: Apakah hasil clustering sesuai dengan ekspektasi dan logika bisnis? Apakah ada pola tertentu yang bisa dimanfaatkan?"
   ]
  },
  {
   "cell_type": "code",
   "execution_count": null,
   "metadata": {
    "id": "MFq0x-OzM_Wt"
   },
   "outputs": [],
   "source": [
    "#Type your code here"
   ]
  },
  {
   "cell_type": "markdown",
   "metadata": {
    "id": "JfgVMEBDS3KG"
   },
   "source": [
    "Tulis hasil interpretasinya di sini.\n",
    "1. Cluster 1:\n",
    "2. Cluster 2:\n",
    "3. Cluster 3:"
   ]
  },
  {
   "cell_type": "markdown",
   "metadata": {
    "id": "jaYP1fx5VgWO"
   },
   "source": [
    "# **7. Mengeksport Data**\n",
    "\n",
    "Simpan hasilnya ke dalam file CSV."
   ]
  },
  {
   "cell_type": "code",
   "execution_count": null,
   "metadata": {
    "id": "fkbg_o80aRSH"
   },
   "outputs": [],
   "source": []
  }
 ],
 "metadata": {
  "colab": {
   "include_colab_link": true,
   "provenance": []
  },
  "kernelspec": {
   "display_name": "Python 3",
   "name": "python3"
  },
  "language_info": {
   "name": "python"
  }
 },
 "nbformat": 4,
 "nbformat_minor": 0
}
